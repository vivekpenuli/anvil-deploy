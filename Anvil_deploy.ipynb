{
  "nbformat": 4,
  "nbformat_minor": 0,
  "metadata": {
    "colab": {
      "name": "Anvil deploy",
      "provenance": [],
      "authorship_tag": "ABX9TyPevplVFEIyB0l59SsAX3I0",
      "include_colab_link": true
    },
    "kernelspec": {
      "name": "python3",
      "display_name": "Python 3"
    }
  },
  "cells": [
    {
      "cell_type": "markdown",
      "metadata": {
        "id": "view-in-github",
        "colab_type": "text"
      },
      "source": [
        "<a href=\"https://colab.research.google.com/github/vivekpenuli/anvil-deploy/blob/master/Anvil_deploy.ipynb\" target=\"_parent\"><img src=\"https://colab.research.google.com/assets/colab-badge.svg\" alt=\"Open In Colab\"/></a>"
      ]
    },
    {
      "cell_type": "code",
      "metadata": {
        "id": "5KbDo038KRpM",
        "colab_type": "code",
        "colab": {
          "base_uri": "https://localhost:8080/",
          "height": 102
        },
        "outputId": "fe42ec76-822e-4f90-c7d8-f4fc8bec9df9"
      },
      "source": [
        "pip install anvil-uplink"
      ],
      "execution_count": 1,
      "outputs": [
        {
          "output_type": "stream",
          "text": [
            "Requirement already satisfied: anvil-uplink in /usr/local/lib/python3.6/dist-packages (0.3.32)\n",
            "Requirement already satisfied: ws4py in /usr/local/lib/python3.6/dist-packages (from anvil-uplink) (0.5.1)\n",
            "Requirement already satisfied: six in /usr/local/lib/python3.6/dist-packages (from anvil-uplink) (1.15.0)\n",
            "Requirement already satisfied: future in /usr/local/lib/python3.6/dist-packages (from anvil-uplink) (0.16.0)\n",
            "Requirement already satisfied: argparse in /usr/local/lib/python3.6/dist-packages (from anvil-uplink) (1.4.0)\n"
          ],
          "name": "stdout"
        }
      ]
    },
    {
      "cell_type": "code",
      "metadata": {
        "id": "O6GcoCIQJXXB",
        "colab_type": "code",
        "colab": {}
      },
      "source": [
        "import pickle"
      ],
      "execution_count": 2,
      "outputs": []
    },
    {
      "cell_type": "markdown",
      "metadata": {
        "id": "G6EBwnCvOxjW",
        "colab_type": "text"
      },
      "source": [
        "load the saved model"
      ]
    },
    {
      "cell_type": "markdown",
      "metadata": {
        "id": "nNWqGgQ2Pvz6",
        "colab_type": "text"
      },
      "source": [
        "NOTE: the model must be train in your system at least ones so that we get the .pkl file downloaded in your system"
      ]
    },
    {
      "cell_type": "code",
      "metadata": {
        "id": "NSzzB9VbJarz",
        "colab_type": "code",
        "colab": {}
      },
      "source": [
        "with open('vivek_pickle','rb') as file:\n",
        "    vivek= pickle.load(file)"
      ],
      "execution_count": 4,
      "outputs": []
    },
    {
      "cell_type": "code",
      "metadata": {
        "id": "Uz23EmztJav6",
        "colab_type": "code",
        "colab": {
          "base_uri": "https://localhost:8080/",
          "height": 34
        },
        "outputId": "7b2b18bf-d5cb-4a05-ed5c-3cc3a2d8d4fd"
      },
      "source": [
        "vivek.coef_"
      ],
      "execution_count": 5,
      "outputs": [
        {
          "output_type": "execute_result",
          "data": {
            "text/plain": [
              "array([2827.63404314, 1912.93803053, 2196.9753141 ])"
            ]
          },
          "metadata": {
            "tags": []
          },
          "execution_count": 5
        }
      ]
    },
    {
      "cell_type": "code",
      "metadata": {
        "id": "CSju1ZGVJj1h",
        "colab_type": "code",
        "colab": {
          "base_uri": "https://localhost:8080/",
          "height": 34
        },
        "outputId": "4e196989-3d52-4d2c-b4d2-fe8e515d5fab"
      },
      "source": [
        "vivek.intercept_"
      ],
      "execution_count": 6,
      "outputs": [
        {
          "output_type": "execute_result",
          "data": {
            "text/plain": [
              "17237.330313727172"
            ]
          },
          "metadata": {
            "tags": []
          },
          "execution_count": 6
        }
      ]
    },
    {
      "cell_type": "code",
      "metadata": {
        "id": "X2_OmD0zJjyI",
        "colab_type": "code",
        "colab": {
          "base_uri": "https://localhost:8080/",
          "height": 34
        },
        "outputId": "7c398863-23ca-44c9-a756-e34b40fca1e0"
      },
      "source": [
        "vivek.predict([[2,9,6]])"
      ],
      "execution_count": 7,
      "outputs": [
        {
          "output_type": "execute_result",
          "data": {
            "text/plain": [
              "array([53290.89255945])"
            ]
          },
          "metadata": {
            "tags": []
          },
          "execution_count": 7
        }
      ]
    },
    {
      "cell_type": "code",
      "metadata": {
        "id": "2HIUijcwMB69",
        "colab_type": "code",
        "colab": {
          "base_uri": "https://localhost:8080/",
          "height": 34
        },
        "outputId": "d061760c-0d57-4c7b-8322-7cb07bae0822"
      },
      "source": [
        "vivek.predict([[4,6,7]])"
      ],
      "execution_count": 8,
      "outputs": [
        {
          "output_type": "execute_result",
          "data": {
            "text/plain": [
              "array([55404.32186824])"
            ]
          },
          "metadata": {
            "tags": []
          },
          "execution_count": 8
        }
      ]
    },
    {
      "cell_type": "code",
      "metadata": {
        "id": "_tRM6XFCJju-",
        "colab_type": "code",
        "colab": {
          "base_uri": "https://localhost:8080/",
          "height": 68
        },
        "outputId": "a017441c-4196-4678-892b-32478147d74b"
      },
      "source": [
        "import anvil.server\n",
        "\n",
        "anvil.server.connect(\"B2LFKKSBDAKG2357IH3EBQF7-WEC5PUORUZSM33TK\")"
      ],
      "execution_count": 9,
      "outputs": [
        {
          "output_type": "stream",
          "text": [
            "Connecting to wss://anvil.works/uplink\n",
            "Anvil websocket open\n",
            "Authenticated OK\n"
          ],
          "name": "stdout"
        }
      ]
    },
    {
      "cell_type": "code",
      "metadata": {
        "id": "aLTUXiMSKLqV",
        "colab_type": "code",
        "colab": {}
      },
      "source": [
        "@anvil.server.callable\n",
        "def get_data(x,y,z):\n",
        "\n",
        "  score=vivek.predict([[int(x),int(y),int(z)]])\n",
        " ## print(f\"Hello from your own machine, {name}!\")\n",
        "  return ('your salary' if score > 0.5 else 'go', float(score))"
      ],
      "execution_count": 10,
      "outputs": []
    }
  ]
}